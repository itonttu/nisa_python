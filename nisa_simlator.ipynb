{
 "cells": [
  {
   "cell_type": "code",
   "execution_count": 2,
   "id": "d19547f2-18f0-4cf8-8077-24838c3ff441",
   "metadata": {},
   "outputs": [],
   "source": [
    "from matplotlib import pyplot as plt\n",
    "import numpy as np\n",
    "import ipywidgets as widgets\n",
    "from IPython.display import display\n",
    "import warnings\n",
    "import japanize_matplotlib\n",
    "warnings.simplefilter('ignore')"
   ]
  },
  {
   "cell_type": "code",
   "execution_count": 5,
   "id": "2fc4d3dd-2464-4f8a-9e39-fe1ad4cbb3a5",
   "metadata": {},
   "outputs": [],
   "source": [
    "# 積立NISAシュミレーター\n",
    "def show_widgets():\n",
    "    button = widgets.Button(description='シュミレーション')\n",
    "    s1 = widgets.IntSlider(value=20000 , min=1000 , max=33000 , step=1000 , description='月の積立金:')\n",
    "    s2 = widgets.FloatSlider(value=4.0, min=0.1, step=0.1, max=10.0,description='利率:')\n",
    "    s3 = widgets.IntSlider(value=10 , min=1, max=20, step=1, description='年数:')\n",
    "    output0 = widgets.Output(layout={'border': '1px solid black'})\n",
    "    output1 = widgets.Output()\n",
    "    fig = plt.figure(figsize=(12,6))\n",
    "    ax = plt.gca()\n",
    "    \n",
    "    #クリック時の実行\n",
    "    def on_click(b: widgets.Button)->None:\n",
    "        ax.clear()\n",
    "        reserve = s1.value\n",
    "        rate = s2.value\n",
    "        year = s3.value\n",
    "        rand_y1,rand_y2 = [],[]\n",
    "        money,cost = 0.0\n",
    "        for i in range(1, year+1):\n",
    "            money += reserve * 12\n",
    "            cost += reserve * 12\n",
    "            money = int(money*(1+rate/100))\n",
    "            diff = money - cost\n",
    "            rand_y1.append(cost)\n",
    "            rand_y2.append(diff)\n",
    "            \n",
    "        #棒グラフの描画\n",
    "        x = list(range(1,len(rand_y1)+1))\n",
    "        p1 = ax.bar(x , rand_y1)\n",
    "        p2 = ax.bar(x , rand_y2,bottom=rand_y1)\n",
    "        l1=list(map(lambda x:'{0:.1f}万円'.format(x/10000),rand_y1))\n",
    "        l2=list(map(lambda x:'{0:.1f}万円'.format(x/10000),rand_y2))\n",
    "        l3=list(map(lambda x:'{0:.1f}万円'.format(x[0]+x[1]/10000),zip(rand_y1,rand_y2)))\n",
    "        #棒グラフのテキストラベル\n",
    "        for i in range(len(x)):\n",
    "            if len(x)<=10:\n",
    "                size = 10\n",
    "            elif len(x)<=15:\n",
    "                size = 8\n",
    "            elif len(x)<=20:\n",
    "                size = 7\n",
    "            else:\n",
    "                sixe= 5\n",
    "                \n",
    "            ax.text(i +1, rand_y1[i]/2,li[i], ha='center',color='black',size=size)\n",
    "            ax.text(i +1, rand_y1[i] + rand_y2[i]/2,l2[i], ha='center',color='black',size=size)\n",
    "            ax.text(i +1, rand_y1[i] + rand_y2[i] + 20000, l3[i],ha='center',color='orange',size=size)\n",
    "        ax.yaxis.set_major_formatter(plt.FuncFormatter(lambda x, loc:\"{:,}\".format(int(x))))\n",
    "        \n",
    "        with output0:\n",
    "            output0.clear_output(wait=True)\n",
    "            out_text = '積立金額　：{0:_>9}円 \\n合計利息：{1:_>9}円\\n最終金額：{2:_>9}円'\n",
    "            out = out_text.format(cost, diff,money)\n",
    "            print(out)\n",
    "        with output1:\n",
    "            output1.clear_output(wait=True)\n",
    "            display(ax.figure)\n",
    "            \n",
    "    botton.on_click(on_click)\n",
    "    box1 = widgets.Box([s1,s2])\n",
    "    box2 = widgets.Box([s3,button])\n",
    "    display(box1,box2,output0,output1)\n",
    "    plt.close()\n",
    "    button.click"
   ]
  },
  {
   "cell_type": "code",
   "execution_count": null,
   "id": "5bcb1c2b-368c-478c-9c5e-34cf57da47b6",
   "metadata": {},
   "outputs": [],
   "source": [
    "show_widgets"
   ]
  }
 ],
 "metadata": {
  "kernelspec": {
   "display_name": "Python 3 (ipykernel)",
   "language": "python",
   "name": "python3"
  },
  "language_info": {
   "codemirror_mode": {
    "name": "ipython",
    "version": 3
   },
   "file_extension": ".py",
   "mimetype": "text/x-python",
   "name": "python",
   "nbconvert_exporter": "python",
   "pygments_lexer": "ipython3",
   "version": "3.7.16"
  }
 },
 "nbformat": 4,
 "nbformat_minor": 5
}
